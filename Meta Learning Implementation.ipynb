{
 "cells": [
  {
   "cell_type": "markdown",
   "metadata": {},
   "source": [
    "## [reptile](https://blog.openai.com/reptile/)\n",
    "we initially fit a model on ten randomly generated sine curves, each with a different phase, amplitutde, and bias. for each sine curve, 500 data points is randomly selected for training data.\n",
    "\n",
    "we will then fit the model on a new sine curve. the challenge is learning this new sine curve with only 25 datapoints. (in other words, the model will learn a new sine curve with 95% less data.)"
   ]
  },
  {
   "cell_type": "code",
   "execution_count": null,
   "metadata": {
    "collapsed": true
   },
   "outputs": [],
   "source": [
    "import tensorflow as tf\n",
    "import numpy as np\n",
    "\n",
    "def generate_points(k):\n",
    "    \"\"\"sample k points from a randomly initializes sine curve.\n",
    "    \"\"\"\n",
    "    phase = np.random.uniform(low=-10, high=10)\n",
    "    amplitude = np.random.uniform(low=-50, high=50)\n",
    "    bias = np.random.uniform(low=-10, high=10)\n",
    "    frequency = np.random.uniform(low=-2, high=2)\n",
    "    n_points = 5000  # total num of points to generate in sine wave; only a subset will be used as training data\n",
    "    \n",
    "    if (k > n_points):\n",
    "        raise ValueError('oversampling')\n",
    "\n",
    "    X = np.linspace(0, 2, n_points)\n",
    "    y = amplitude*np.sin(X*frequency*2*np.pi+phase*np.pi/180.0)+bias\n",
    "    \n",
    "    keys = sorted(np.random.choice(np.arange(n_points), size=k))\n",
    "    return (X[keys], y[keys], X, y)"
   ]
  },
  {
   "cell_type": "code",
   "execution_count": null,
   "metadata": {},
   "outputs": [],
   "source": [
    "import matplotlib.pyplot as plt\n",
    "plt.style.use(\"ggplot\")\n",
    "%matplotlib inline\n",
    "\n",
    "n_samples = 5\n",
    "n_points_per_samples = 20  # for each sine curve, grab 50 <x,y> for training\n",
    "\n",
    "for _ in range(n_samples):\n",
    "    X_train_subset, y_train_subset, X_train, y_train = generate_points(n_points_per_samples)\n",
    "    plt.plot(X_train_subset, y_train_subset, marker='o')\n",
    "    plt.title(\"random sine curves for training\")"
   ]
  },
  {
   "cell_type": "code",
   "execution_count": null,
   "metadata": {
    "collapsed": true
   },
   "outputs": [],
   "source": [
    "tf.reset_default_graph()\n",
    "\n",
    "n_hidden = 128\n",
    "n_classes = 1\n",
    "n_features = 1\n",
    "\n",
    "X_ = tf.placeholder(tf.float32, shape=[None, n_features])\n",
    "y_ = tf.placeholder(tf.float32, shape=[None, n_classes])\n",
    "\n",
    "w1 = tf.Variable(tf.random_uniform([n_features, n_hidden]))\n",
    "b1 = tf.Variable(tf.random_uniform([n_hidden]))\n",
    "\n",
    "w2 = tf.Variable(tf.random_uniform([n_hidden, n_classes]))\n",
    "b2 = tf.Variable(tf.random_uniform([n_classes]))\n",
    "\n",
    "z1 = tf.matmul(X_, w1) + b1\n",
    "fc1 = tf.nn.sigmoid(z1)\n",
    "z2 = tf.matmul(fc1, w2) + b2\n",
    "\n",
    "\n",
    "loss = tf.reduce_mean(tf.nn.l2_loss(z2 - y_))\n",
    "op = tf.train.AdamOptimizer(0.01).minimize(loss)"
   ]
  },
  {
   "cell_type": "code",
   "execution_count": null,
   "metadata": {},
   "outputs": [],
   "source": [
    "\"\"\"\n",
    "we have 500 data points for each sine curve.\n",
    "\"\"\"\n",
    "\n",
    "n_samples = 10  # number of sine curves\n",
    "n_points_per_samples = 500  # how datapoints per sample?\n",
    "n_epochs = 2000\n",
    "\n",
    "ls_w1 = []\n",
    "ls_b1 = []\n",
    "ls_w2 = []\n",
    "ls_b2 = []\n",
    "\n",
    "\n",
    "with tf.Session() as sess:\n",
    "\n",
    "    sess.run(tf.global_variables_initializer())\n",
    "    \n",
    "    for draw in range(n_samples):\n",
    "        \n",
    "        # generate datapoints from data\n",
    "        X_train_subset, y_train_subset, _, _ = generate_points(n_points_per_samples)\n",
    "    \n",
    "        # parameter update\n",
    "        for i in range(n_epochs):\n",
    "            _ = sess.run(op, feed_dict={X_:X_train_subset.reshape(n_points_per_samples,1), \n",
    "                                        y_:y_train_subset.reshape(n_points_per_samples,1)})\n",
    "            \n",
    "        # what is the final loss per sample?\n",
    "        print(\"sample {}: loss {}\".format(draw, sess.run(loss, feed_dict={\n",
    "            X_:X_train_subset.reshape(n_points_per_samples,1), \n",
    "            y_:y_train_subset.reshape(n_points_per_samples,1)})))\n",
    "\n",
    "        # collect weights for averaging\n",
    "        ls_w1.append(sess.run(w1))\n",
    "        ls_b1.append(sess.run(b1))\n",
    "        ls_w2.append(sess.run(w2))\n",
    "        ls_b2.append(sess.run(b2))\n",
    "        \n",
    "    # generate predictions for visual inspection\n",
    "    y_pred = sess.run(z2, feed_dict={X_:X_train_subset.reshape(n_points_per_samples,1)})"
   ]
  },
  {
   "cell_type": "code",
   "execution_count": null,
   "metadata": {},
   "outputs": [],
   "source": [
    "plt.plot(X_train_subset, y_train_subset, c='g')  # actual\n",
    "plt.plot(X_train_subset, y_pred, c='b')  # pred\n",
    "plt.title(\"actual sine curve versus predicted\")"
   ]
  },
  {
   "cell_type": "code",
   "execution_count": null,
   "metadata": {
    "collapsed": true
   },
   "outputs": [],
   "source": [
    "# calculate the average of weights for each sample\n",
    "\n",
    "w1_new = np.mean(ls_w1, axis=0)\n",
    "b1_new = np.mean(ls_b1, axis=0)\n",
    "w2_new = np.mean(ls_w2, axis=0)\n",
    "b2_new = np.mean(ls_b2, axis=0)"
   ]
  },
  {
   "cell_type": "code",
   "execution_count": null,
   "metadata": {
    "collapsed": true
   },
   "outputs": [],
   "source": [
    "# create a new model for few-shot learning on new sine curve\n",
    "\n",
    "tf.reset_default_graph()\n",
    "\n",
    "n_hidden = 128\n",
    "n_classes = 1\n",
    "n_features = 1\n",
    "\n",
    "X_ = tf.placeholder(tf.float32, shape=[None, n_features])\n",
    "y_ = tf.placeholder(tf.float32, shape=[None, n_classes])\n",
    "\n",
    "w1 = tf.Variable(tf.random_uniform([n_features, n_hidden]))\n",
    "b1 = tf.Variable(tf.random_uniform([n_hidden]))\n",
    "w2 = tf.Variable(tf.random_uniform([n_hidden, n_classes]))\n",
    "b2 = tf.Variable(tf.random_uniform([n_classes]))\n",
    "\n",
    "z1 = tf.matmul(X_, w1) + b1\n",
    "fc1 = tf.nn.sigmoid(z1)\n",
    "z2 = tf.matmul(fc1, w2) + b2\n",
    "\n",
    "loss = tf.reduce_mean(tf.nn.l2_loss(z2 - y_))\n",
    "op = tf.train.AdamOptimizer(1).minimize(loss)  # increase learning rate"
   ]
  },
  {
   "cell_type": "code",
   "execution_count": null,
   "metadata": {},
   "outputs": [],
   "source": [
    "with tf.Session() as sess:\n",
    "    sess.run(tf.global_variables_initializer())\n",
    "    print(\"initial b2 weights: \", sess.run(b2))\n",
    "    \n",
    "    # use learned weights for this new model\n",
    "    w1.load(w1_new, sess)\n",
    "    b1.load(b1_new, sess)\n",
    "    w2.load(w2_new, sess)\n",
    "    b2.load(b2_new, sess)\n",
    "\n",
    "    print(\"desired b2 weights: \", b2_new)\n",
    "    print(\"new b2 weights: \", sess.run(b2))  # should match desired b2 weights"
   ]
  },
  {
   "cell_type": "code",
   "execution_count": null,
   "metadata": {},
   "outputs": [],
   "source": [
    "# generate points - but this time only generate ~5% of datapoints (sparse data)\n",
    "n_points_per_samples = int(n_points_per_samples / 20)\n",
    "\n",
    "X_test_subset, y_test_subset, X_test, y_test = generate_points(n_points_per_samples)\n",
    "plt.plot(X_test_subset, y_test_subset, c='g', marker='o')\n",
    "\n",
    "print(\"number of points: \", n_points_per_samples)"
   ]
  },
  {
   "cell_type": "code",
   "execution_count": null,
   "metadata": {},
   "outputs": [],
   "source": [
    "n_epochs = 2000  # same number of training steps, but on less data\n",
    "\n",
    "with tf.Session() as sess:\n",
    "    sess.run(tf.global_variables_initializer())\n",
    "    \n",
    "    # load previous weights\n",
    "    w1.load(w1_new, sess)\n",
    "    b1.load(b1_new, sess)\n",
    "    w2.load(w2_new, sess)\n",
    "    b2.load(b2_new, sess)\n",
    "    \n",
    "    # train on a subset of test set - only a few data points\n",
    "    for i in range(n_epochs):\n",
    "        l_, _ = sess.run([loss, op], feed_dict={X_:X_test_subset.reshape(n_points_per_samples,1), \n",
    "                                                y_:y_test_subset.reshape(n_points_per_samples,1)})\n",
    "        \n",
    "    y_pred = sess.run(z2, feed_dict={X_:X_test.reshape(X_test.shape[0],1)})\n",
    "    print(\"loss: \", l_)\n",
    "    \n",
    "    y_pred_subset = sess.run(z2, feed_dict={X_:X_test_subset.reshape(X_test_subset.shape[0],1)})"
   ]
  },
  {
   "cell_type": "code",
   "execution_count": null,
   "metadata": {},
   "outputs": [],
   "source": [
    "plt.plot(X_test, y_test, c='g')  # actual\n",
    "plt.plot(X_test, y_pred, c='b')  # predictions\n",
    "plt.plot(X_test_subset, y_pred_subset, c='b', marker='x')"
   ]
  },
  {
   "cell_type": "code",
   "execution_count": null,
   "metadata": {
    "collapsed": true
   },
   "outputs": [],
   "source": []
  }
 ],
 "metadata": {
  "kernelspec": {
   "display_name": "Python 3",
   "language": "python",
   "name": "python3"
  },
  "language_info": {
   "codemirror_mode": {
    "name": "ipython",
    "version": 3
   },
   "file_extension": ".py",
   "mimetype": "text/x-python",
   "name": "python",
   "nbconvert_exporter": "python",
   "pygments_lexer": "ipython3",
   "version": "3.6.3"
  }
 },
 "nbformat": 4,
 "nbformat_minor": 2
}
